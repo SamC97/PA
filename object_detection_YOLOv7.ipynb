{
 "cells": [
  {
   "cell_type": "code",
   "execution_count": 46,
   "metadata": {},
   "outputs": [],
   "source": [
    "# imports\n",
    "import numpy as np\n",
    "import pandas as pd\n",
    "import glob\n",
    "import cv2 # for capturing videos\n",
    "import pickle # to save the model\n",
    "import argparse\n",
    "import os\n",
    "from sklearn.model_selection import train_test_split\n",
    "from matplotlib import pyplot as pl\n",
    "from PIL import Image\n",
    "from tqdm import tqdm"
   ]
  },
  {
   "attachments": {},
   "cell_type": "markdown",
   "metadata": {},
   "source": [
    "# Managing Objects Detection Results\n",
    "Load YOLOv7 result and transform it to be use as an input of submovement detection model"
   ]
  },
  {
   "cell_type": "code",
   "execution_count": 47,
   "metadata": {},
   "outputs": [],
   "source": [
    "# CONSTANTS\n",
    "NB_IMG = 28854 # number of frames used with YOLOv7\n",
    "PATH = \"../data/YOLOv7/labels/\"\n",
    "TXT_FILES = glob.glob(PATH + \"*.txt\")\n",
    "# even though the images used with YOLOv7 were 640x640, we resize them to 300x300 to stay consistent with the hands dataset\n",
    "IMG_HEIGHT = 300 \n",
    "IMG_WIDTH = 300"
   ]
  },
  {
   "cell_type": "code",
   "execution_count": 48,
   "metadata": {},
   "outputs": [
    {
     "name": "stderr",
     "output_type": "stream",
     "text": [
      "100%|██████████| 28854/28854 [00:34<00:00, 843.59it/s] \n"
     ]
    }
   ],
   "source": [
    "# load labels\n",
    "labels = [\"0\" if txt_path not in TXT_FILES else open(txt_path, \"r\").read() for txt_path in tqdm([PATH + \"frames\" + str(i).zfill(6) + \".txt\" for i in range(NB_IMG)])]"
   ]
  },
  {
   "cell_type": "code",
   "execution_count": 49,
   "metadata": {},
   "outputs": [],
   "source": [
    "# creat a numpy array with the labels\n",
    "labels = np.array(labels)"
   ]
  },
  {
   "cell_type": "code",
   "execution_count": 50,
   "metadata": {},
   "outputs": [
    {
     "name": "stdout",
     "output_type": "stream",
     "text": [
      "(28854, 2)\n",
      "[['8888' '0 0.620313 0.560156 0.75625 0.435937 0.950684\\n']\n",
      " ['8889' '0 0.620313 0.563281 0.75625 0.429688 0.947754\\n']\n",
      " ['8890' '0 0.620313 0.564062 0.75625 0.428125 0.945801\\n']\n",
      " ['8891' '0 0.621094 0.565625 0.754687 0.425 0.947266\\n']\n",
      " ['8892'\n",
      "  '64 0.553906 0.635938 0.104687 0.046875 0.818359\\n0 0.621875 0.56875 0.75625 0.41875 0.944824\\n']\n",
      " ['8893' '0 0.621875 0.569531 0.753125 0.417188 0.945312\\n']\n",
      " ['8894' '0 0.621094 0.572656 0.754687 0.414062 0.949707\\n']\n",
      " ['8895' '0 0.621094 0.575781 0.754687 0.410937 0.94873\\n']\n",
      " ['8896' '0 0.620313 0.579687 0.75625 0.409375 0.94873\\n']\n",
      " ['8897' '0 0.619531 0.58125 0.754687 0.40625 0.944336\\n']\n",
      " ['8898' '0 0.619531 0.582812 0.757812 0.4 0.944824\\n']]\n"
     ]
    }
   ],
   "source": [
    "# structuring the data\n",
    "# add and ID column to the labels\n",
    "labels = np.hstack((np.arange(NB_IMG).reshape(-1, 1), labels.reshape(-1, 1)))\n",
    "print(labels.shape)\n",
    "print(labels[8888:8899])\n"
   ]
  },
  {
   "cell_type": "code",
   "execution_count": 51,
   "metadata": {},
   "outputs": [],
   "source": [
    "# cannot directly replace every \"\\n\" character by a space because strings are immutable in numpy arrays\n",
    "# so we have to create a new array\n",
    "\n",
    "# Create a new column with the modified strings\n",
    "new_column = np.char.replace(labels[:,1], \"\\n\", \" \")\n",
    "\n",
    "# Stack the new column with the original array\n",
    "np_ready_to_split = np.column_stack((labels[:,0], new_column))"
   ]
  },
  {
   "cell_type": "code",
   "execution_count": 52,
   "metadata": {},
   "outputs": [
    {
     "name": "stdout",
     "output_type": "stream",
     "text": [
      "[['8888' '0 0.620313 0.560156 0.75625 0.435937 0.950684 ']\n",
      " ['8889' '0 0.620313 0.563281 0.75625 0.429688 0.947754 ']\n",
      " ['8890' '0 0.620313 0.564062 0.75625 0.428125 0.945801 ']\n",
      " ['8891' '0 0.621094 0.565625 0.754687 0.425 0.947266 ']\n",
      " ['8892'\n",
      "  '64 0.553906 0.635938 0.104687 0.046875 0.818359 0 0.621875 0.56875 0.75625 0.41875 0.944824 ']\n",
      " ['8893' '0 0.621875 0.569531 0.753125 0.417188 0.945312 ']\n",
      " ['8894' '0 0.621094 0.572656 0.754687 0.414062 0.949707 ']\n",
      " ['8895' '0 0.621094 0.575781 0.754687 0.410937 0.94873 ']\n",
      " ['8896' '0 0.620313 0.579687 0.75625 0.409375 0.94873 ']\n",
      " ['8897' '0 0.619531 0.58125 0.754687 0.40625 0.944336 ']\n",
      " ['8898' '0 0.619531 0.582812 0.757812 0.4 0.944824 ']]\n"
     ]
    }
   ],
   "source": [
    "print(np_ready_to_split[8888:8899])"
   ]
  },
  {
   "cell_type": "code",
   "execution_count": 53,
   "metadata": {},
   "outputs": [
    {
     "name": "stderr",
     "output_type": "stream",
     "text": [
      "/tmp/ipykernel_105513/3857613684.py:8: VisibleDeprecationWarning: Creating an ndarray from ragged nested sequences (which is a list-or-tuple of lists-or-tuples-or ndarrays with different lengths or shapes) is deprecated. If you meant to do this, you must specify 'dtype=object' when creating the ndarray.\n",
      "  np_splitted = np.array(new_list)\n"
     ]
    }
   ],
   "source": [
    "# split second column (column with object detected values) by space\n",
    "new_list = []\n",
    "\n",
    "for i in range(len(np_ready_to_split)):\n",
    "    split_values = np_ready_to_split[i][1].split(\" \")\n",
    "    new_list.append(split_values)\n",
    "\n",
    "np_splitted = np.array(new_list)"
   ]
  },
  {
   "cell_type": "code",
   "execution_count": 54,
   "metadata": {},
   "outputs": [
    {
     "name": "stdout",
     "output_type": "stream",
     "text": [
      "(28854,)\n"
     ]
    }
   ],
   "source": [
    "print(np_splitted.shape)"
   ]
  },
  {
   "cell_type": "code",
   "execution_count": 55,
   "metadata": {},
   "outputs": [
    {
     "name": "stdout",
     "output_type": "stream",
     "text": [
      "[list(['0', '0.620313', '0.560156', '0.75625', '0.435937', '0.950684', ''])\n",
      " list(['0', '0.620313', '0.563281', '0.75625', '0.429688', '0.947754', ''])\n",
      " list(['0', '0.620313', '0.564062', '0.75625', '0.428125', '0.945801', ''])\n",
      " list(['0', '0.621094', '0.565625', '0.754687', '0.425', '0.947266', ''])\n",
      " list(['64', '0.553906', '0.635938', '0.104687', '0.046875', '0.818359', '0', '0.621875', '0.56875', '0.75625', '0.41875', '0.944824', ''])\n",
      " list(['0', '0.621875', '0.569531', '0.753125', '0.417188', '0.945312', ''])\n",
      " list(['0', '0.621094', '0.572656', '0.754687', '0.414062', '0.949707', ''])\n",
      " list(['0', '0.621094', '0.575781', '0.754687', '0.410937', '0.94873', ''])\n",
      " list(['0', '0.620313', '0.579687', '0.75625', '0.409375', '0.94873', ''])\n",
      " list(['0', '0.619531', '0.58125', '0.754687', '0.40625', '0.944336', ''])\n",
      " list(['0', '0.619531', '0.582812', '0.757812', '0.4', '0.944824', ''])]\n"
     ]
    }
   ],
   "source": [
    "print(np_splitted[8888:8899])"
   ]
  },
  {
   "cell_type": "code",
   "execution_count": 56,
   "metadata": {},
   "outputs": [
    {
     "name": "stderr",
     "output_type": "stream",
     "text": [
      "/tmp/ipykernel_105513/3654092711.py:11: VisibleDeprecationWarning: Creating an ndarray from ragged nested sequences (which is a list-or-tuple of lists-or-tuples-or ndarrays with different lengths or shapes) is deprecated. If you meant to do this, you must specify 'dtype=object' when creating the ndarray.\n",
      "  np_grouped = np.array(new_list)\n"
     ]
    }
   ],
   "source": [
    "# group splitted values by 6 (6 values per object detected) --> (class, x, y, w, h, confidence)\n",
    "# some frame have no object detected, so we have to add a condition to avoid an error\n",
    "# some other frames have more than one object detected, so we have to create a list of lists to store all the objects detected in one frame\n",
    "new_list = []\n",
    "for i in range(len(np_splitted)):\n",
    "    if (len(np_splitted[i])-1) % 6 == 0:\n",
    "        new_list.append([np_splitted[i][j:j+6] for j in range(0, len(np_splitted[i]), 6)])\n",
    "    else:\n",
    "        new_list.append([\"-1\", \"-1\", \"-1\", \"-1\", \"-1\", \"-1\"])\n",
    "\n",
    "np_grouped = np.array(new_list)"
   ]
  },
  {
   "cell_type": "code",
   "execution_count": 57,
   "metadata": {},
   "outputs": [
    {
     "name": "stdout",
     "output_type": "stream",
     "text": [
      "(28854,)\n",
      "[list([['0', '0.620313', '0.560156', '0.75625', '0.435937', '0.950684'], ['']])\n",
      " list([['0', '0.620313', '0.563281', '0.75625', '0.429688', '0.947754'], ['']])\n",
      " list([['0', '0.620313', '0.564062', '0.75625', '0.428125', '0.945801'], ['']])\n",
      " list([['0', '0.621094', '0.565625', '0.754687', '0.425', '0.947266'], ['']])\n",
      " list([['64', '0.553906', '0.635938', '0.104687', '0.046875', '0.818359'], ['0', '0.621875', '0.56875', '0.75625', '0.41875', '0.944824'], ['']])\n",
      " list([['0', '0.621875', '0.569531', '0.753125', '0.417188', '0.945312'], ['']])\n",
      " list([['0', '0.621094', '0.572656', '0.754687', '0.414062', '0.949707'], ['']])\n",
      " list([['0', '0.621094', '0.575781', '0.754687', '0.410937', '0.94873'], ['']])\n",
      " list([['0', '0.620313', '0.579687', '0.75625', '0.409375', '0.94873'], ['']])\n",
      " list([['0', '0.619531', '0.58125', '0.754687', '0.40625', '0.944336'], ['']])\n",
      " list([['0', '0.619531', '0.582812', '0.757812', '0.4', '0.944824'], ['']])]\n"
     ]
    }
   ],
   "source": [
    "print(np_grouped.shape)\n",
    "print(np_grouped[8888:8899])"
   ]
  },
  {
   "cell_type": "code",
   "execution_count": 58,
   "metadata": {},
   "outputs": [
    {
     "name": "stderr",
     "output_type": "stream",
     "text": [
      "/tmp/ipykernel_105513/1040142174.py:11: VisibleDeprecationWarning: Creating an ndarray from ragged nested sequences (which is a list-or-tuple of lists-or-tuples-or ndarrays with different lengths or shapes) is deprecated. If you meant to do this, you must specify 'dtype=object' when creating the ndarray.\n",
      "  np_cleaned = np.array(new_list)\n"
     ]
    }
   ],
   "source": [
    "# delete void elements in list of lists (it's an error introduced by the previous step)\n",
    "new_list = []\n",
    "for i in range(len(np_grouped)):\n",
    "    if np_grouped[i][0] != ['0']:\n",
    "        for j in range(len(np_grouped[i])):\n",
    "            if np_grouped[i][j] == ['']:\n",
    "                    np_grouped[i].pop(j)\n",
    "\n",
    "    new_list.append(np_grouped[i])\n",
    "    \n",
    "np_cleaned = np.array(new_list)"
   ]
  },
  {
   "cell_type": "code",
   "execution_count": 59,
   "metadata": {},
   "outputs": [
    {
     "name": "stdout",
     "output_type": "stream",
     "text": [
      "(28854,)\n",
      "[list([['0', '0.620313', '0.560156', '0.75625', '0.435937', '0.950684']])\n",
      " list([['0', '0.620313', '0.563281', '0.75625', '0.429688', '0.947754']])\n",
      " list([['0', '0.620313', '0.564062', '0.75625', '0.428125', '0.945801']])\n",
      " list([['0', '0.621094', '0.565625', '0.754687', '0.425', '0.947266']])\n",
      " list([['64', '0.553906', '0.635938', '0.104687', '0.046875', '0.818359'], ['0', '0.621875', '0.56875', '0.75625', '0.41875', '0.944824']])\n",
      " list([['0', '0.621875', '0.569531', '0.753125', '0.417188', '0.945312']])\n",
      " list([['0', '0.621094', '0.572656', '0.754687', '0.414062', '0.949707']])\n",
      " list([['0', '0.621094', '0.575781', '0.754687', '0.410937', '0.94873']])\n",
      " list([['0', '0.620313', '0.579687', '0.75625', '0.409375', '0.94873']])\n",
      " list([['0', '0.619531', '0.58125', '0.754687', '0.40625', '0.944336']])\n",
      " list([['0', '0.619531', '0.582812', '0.757812', '0.4', '0.944824']])]\n"
     ]
    }
   ],
   "source": [
    "print(np_cleaned.shape)\n",
    "print(np_cleaned[8888:8899])"
   ]
  },
  {
   "cell_type": "code",
   "execution_count": 60,
   "metadata": {},
   "outputs": [
    {
     "name": "stdout",
     "output_type": "stream",
     "text": [
      "{'person': 0, 'bicycle': 1, 'car': 2, 'motorcycle': 3, 'airplane': 4, 'bus': 5, 'train': 6, 'truck': 7, 'boat': 8, 'traffic light': 9, 'fire hydrant': 10, 'stop sign': 11, 'parking meter': 12, 'bench': 13, 'bird': 14, 'cat': 15, 'dog': 16, 'horse': 17, 'sheep': 18, 'cow': 19, 'elephant': 20, 'bear': 21, 'zebra': 22, 'giraffe': 23, 'backpack': 24, 'umbrella': 25, 'handbag': 26, 'tie': 27, 'suitcase': 28, 'frisbee': 29, 'skis': 30, 'snowboard': 31, 'sports ball': 32, 'kite': 33, 'baseball bat': 34, 'baseball glove': 35, 'skateboard': 36, 'surfboard': 37, 'tennis racket': 38, 'bottle': 39, 'wine glass': 40, 'cup': 41, 'fork': 42, 'knife': 43, 'spoon': 44, 'bowl': 45, 'banana': 46, 'apple': 47, 'sandwich': 48, 'orange': 49, 'broccoli': 50, 'carrot': 51, 'hot dog': 52, 'pizza': 53, 'donut': 54, 'cake': 55, 'chair': 56, 'couch': 57, 'potted plant': 58, 'bed': 59, 'dining table': 60, 'toilet': 61, 'tv': 62, 'laptop': 63, 'mouse': 64, 'remote': 65, 'keyboard': 66, 'cell phone': 67, 'microwave': 68, 'oven': 69, 'toaster': 70, 'sink': 71, 'refrigerator': 72, 'book': 73, 'clock': 74, 'vase': 75, 'scissors': 76, 'teddy bear': 77, 'hair drier': 78, 'toothbrush': 79}\n"
     ]
    }
   ],
   "source": [
    "# all the objects YOLOv7 can detect\n",
    "object_classes = [ 'person', 'bicycle', 'car', 'motorcycle', 'airplane', 'bus', 'train', 'truck', 'boat', 'traffic light',\n",
    "         'fire hydrant', 'stop sign', 'parking meter', 'bench', 'bird', 'cat', 'dog', 'horse', 'sheep', 'cow',\n",
    "         'elephant', 'bear', 'zebra', 'giraffe', 'backpack', 'umbrella', 'handbag', 'tie', 'suitcase', 'frisbee',\n",
    "         'skis', 'snowboard', 'sports ball', 'kite', 'baseball bat', 'baseball glove', 'skateboard', 'surfboard',\n",
    "         'tennis racket', 'bottle', 'wine glass', 'cup', 'fork', 'knife', 'spoon', 'bowl', 'banana', 'apple',\n",
    "         'sandwich', 'orange', 'broccoli', 'carrot', 'hot dog', 'pizza', 'donut', 'cake', 'chair', 'couch',\n",
    "         'potted plant', 'bed', 'dining table', 'toilet', 'tv', 'laptop', 'mouse', 'remote', 'keyboard', 'cell phone',\n",
    "         'microwave', 'oven', 'toaster', 'sink', 'refrigerator', 'book', 'clock', 'vase', 'scissors', 'teddy bear',\n",
    "         'hair drier', 'toothbrush' ]\n",
    "\n",
    "# create a dictionary with the names and the corresponding number\n",
    "names_dict = {object_classes[i]:i for i in range(len(object_classes))}\n",
    "print(names_dict)"
   ]
  },
  {
   "cell_type": "code",
   "execution_count": 61,
   "metadata": {},
   "outputs": [
    {
     "name": "stdout",
     "output_type": "stream",
     "text": [
      "{0: 'person', 1: 'bicycle', 2: 'car', 3: 'motorcycle', 4: 'airplane', 5: 'bus', 6: 'train', 7: 'truck', 8: 'boat', 9: 'traffic light', 10: 'fire hydrant', 11: 'stop sign', 12: 'parking meter', 13: 'bench', 14: 'bird', 15: 'cat', 16: 'dog', 17: 'horse', 18: 'sheep', 19: 'cow', 20: 'elephant', 21: 'bear', 22: 'zebra', 23: 'giraffe', 24: 'backpack', 25: 'umbrella', 26: 'handbag', 27: 'tie', 28: 'suitcase', 29: 'frisbee', 30: 'skis', 31: 'snowboard', 32: 'sports ball', 33: 'kite', 34: 'baseball bat', 35: 'baseball glove', 36: 'skateboard', 37: 'surfboard', 38: 'tennis racket', 39: 'bottle', 40: 'wine glass', 41: 'cup', 42: 'fork', 43: 'knife', 44: 'spoon', 45: 'bowl', 46: 'banana', 47: 'apple', 48: 'sandwich', 49: 'orange', 50: 'broccoli', 51: 'carrot', 52: 'hot dog', 53: 'pizza', 54: 'donut', 55: 'cake', 56: 'chair', 57: 'couch', 58: 'potted plant', 59: 'bed', 60: 'dining table', 61: 'toilet', 62: 'tv', 63: 'laptop', 64: 'mouse', 65: 'remote', 66: 'keyboard', 67: 'cell phone', 68: 'microwave', 69: 'oven', 70: 'toaster', 71: 'sink', 72: 'refrigerator', 73: 'book', 74: 'clock', 75: 'vase', 76: 'scissors', 77: 'teddy bear', 78: 'hair drier', 79: 'toothbrush'}\n"
     ]
    }
   ],
   "source": [
    "# invert the dictionary to get the names from the numbers\n",
    "obj_class_dict = {i:object_classes[i] for i in range(len(object_classes))}\n",
    "print(obj_class_dict)"
   ]
  },
  {
   "cell_type": "code",
   "execution_count": 62,
   "metadata": {},
   "outputs": [
    {
     "name": "stdout",
     "output_type": "stream",
     "text": [
      "dict_keys([0, 1, 2, 3, 4, 5, 6, 7, 8, 9, 10, 11, 12, 13, 14, 15, 16, 17, 18, 19, 20, 21, 22, 23, 24, 25, 26, 27, 28, 29, 30, 31, 32, 33, 34, 35, 36, 37, 38, 39, 40, 41, 42, 43, 44, 45, 46, 47, 48, 49, 50, 51, 52, 53, 54, 55, 56, 57, 58, 59, 60, 61, 62, 63, 64, 65, 66, 67, 68, 69, 70, 71, 72, 73, 74, 75, 76, 77, 78, 79])\n"
     ]
    }
   ],
   "source": [
    "print(obj_class_dict.keys())"
   ]
  },
  {
   "cell_type": "code",
   "execution_count": 63,
   "metadata": {},
   "outputs": [
    {
     "name": "stdout",
     "output_type": "stream",
     "text": [
      "[['0' 'person' '0']\n",
      " ['1' 'bicycle' '0']\n",
      " ['2' 'car' '0']\n",
      " ['3' 'motorcycle' '0']\n",
      " ['4' 'airplane' '0']\n",
      " ['5' 'bus' '0']\n",
      " ['6' 'train' '0']\n",
      " ['7' 'truck' '0']\n",
      " ['8' 'boat' '0']\n",
      " ['9' 'traffic light' '0']\n",
      " ['10' 'fire hydrant' '0']\n",
      " ['11' 'stop sign' '0']\n",
      " ['12' 'parking meter' '0']\n",
      " ['13' 'bench' '0']\n",
      " ['14' 'bird' '0']\n",
      " ['15' 'cat' '0']\n",
      " ['16' 'dog' '0']\n",
      " ['17' 'horse' '0']\n",
      " ['18' 'sheep' '0']\n",
      " ['19' 'cow' '0']\n",
      " ['20' 'elephant' '0']\n",
      " ['21' 'bear' '0']\n",
      " ['22' 'zebra' '0']\n",
      " ['23' 'giraffe' '0']\n",
      " ['24' 'backpack' '0']\n",
      " ['25' 'umbrella' '0']\n",
      " ['26' 'handbag' '0']\n",
      " ['27' 'tie' '0']\n",
      " ['28' 'suitcase' '0']\n",
      " ['29' 'frisbee' '0']\n",
      " ['30' 'skis' '0']\n",
      " ['31' 'snowboard' '0']\n",
      " ['32' 'sports ball' '0']\n",
      " ['33' 'kite' '0']\n",
      " ['34' 'baseball bat' '0']\n",
      " ['35' 'baseball glove' '0']\n",
      " ['36' 'skateboard' '0']\n",
      " ['37' 'surfboard' '0']\n",
      " ['38' 'tennis racket' '0']\n",
      " ['39' 'bottle' '0']\n",
      " ['40' 'wine glass' '0']\n",
      " ['41' 'cup' '0']\n",
      " ['42' 'fork' '0']\n",
      " ['43' 'knife' '0']\n",
      " ['44' 'spoon' '0']\n",
      " ['45' 'bowl' '0']\n",
      " ['46' 'banana' '0']\n",
      " ['47' 'apple' '0']\n",
      " ['48' 'sandwich' '0']\n",
      " ['49' 'orange' '0']\n",
      " ['50' 'broccoli' '0']\n",
      " ['51' 'carrot' '0']\n",
      " ['52' 'hot dog' '0']\n",
      " ['53' 'pizza' '0']\n",
      " ['54' 'donut' '0']\n",
      " ['55' 'cake' '0']\n",
      " ['56' 'chair' '0']\n",
      " ['57' 'couch' '0']\n",
      " ['58' 'potted plant' '0']\n",
      " ['59' 'bed' '0']\n",
      " ['60' 'dining table' '0']\n",
      " ['61' 'toilet' '0']\n",
      " ['62' 'tv' '0']\n",
      " ['63' 'laptop' '0']\n",
      " ['64' 'mouse' '0']\n",
      " ['65' 'remote' '0']\n",
      " ['66' 'keyboard' '0']\n",
      " ['67' 'cell phone' '0']\n",
      " ['68' 'microwave' '0']\n",
      " ['69' 'oven' '0']\n",
      " ['70' 'toaster' '0']\n",
      " ['71' 'sink' '0']\n",
      " ['72' 'refrigerator' '0']\n",
      " ['73' 'book' '0']\n",
      " ['74' 'clock' '0']\n",
      " ['75' 'vase' '0']\n",
      " ['76' 'scissors' '0']\n",
      " ['77' 'teddy bear' '0']\n",
      " ['78' 'hair drier' '0']\n",
      " ['79' 'toothbrush' '0']]\n"
     ]
    }
   ],
   "source": [
    "# create a numpy array based on obj_class_dict and add a column set to 0 to count the number of objects detected\n",
    "np_obj_class_dict = np.array([[i, obj_class_dict[i], 0] for i in range(len(obj_class_dict))])\n",
    "print(np_obj_class_dict)"
   ]
  },
  {
   "cell_type": "code",
   "execution_count": 64,
   "metadata": {},
   "outputs": [
    {
     "name": "stderr",
     "output_type": "stream",
     "text": [
      "100%|██████████| 28854/28854 [00:11<00:00, 2467.44it/s]\n"
     ]
    }
   ],
   "source": [
    "# get through the list of lists and count the number of objects detected for each class\n",
    "for i in tqdm(range(len(np_cleaned))):\n",
    "    for j in range(len(np_cleaned[i])):\n",
    "        for k in range(len(np_cleaned[i][j])):\n",
    "            for key in obj_class_dict.keys():\n",
    "                if np_cleaned[i][j][k] == str(key):\n",
    "                    # if there is a match, increment the counter\n",
    "                    np_obj_class_dict[key][2] = int(np_obj_class_dict[key][2]) + 1 "
   ]
  },
  {
   "cell_type": "code",
   "execution_count": 65,
   "metadata": {},
   "outputs": [
    {
     "name": "stdout",
     "output_type": "stream",
     "text": [
      "[['0' 'person' '26212']\n",
      " ['1' 'bicycle' '0']\n",
      " ['2' 'car' '0']\n",
      " ['3' 'motorcycle' '0']\n",
      " ['4' 'airplane' '0']\n",
      " ['5' 'bus' '0']\n",
      " ['6' 'train' '0']\n",
      " ['7' 'truck' '0']\n",
      " ['8' 'boat' '0']\n",
      " ['9' 'traffic light' '0']\n",
      " ['10' 'fire hydrant' '0']\n",
      " ['11' 'stop sign' '0']\n",
      " ['12' 'parking meter' '0']\n",
      " ['13' 'bench' '0']\n",
      " ['14' 'bird' '0']\n",
      " ['15' 'cat' '0']\n",
      " ['16' 'dog' '0']\n",
      " ['17' 'horse' '0']\n",
      " ['18' 'sheep' '0']\n",
      " ['19' 'cow' '0']\n",
      " ['20' 'elephant' '0']\n",
      " ['21' 'bear' '0']\n",
      " ['22' 'zebra' '0']\n",
      " ['23' 'giraffe' '0']\n",
      " ['24' 'backpack' '0']\n",
      " ['25' 'umbrella' '0']\n",
      " ['26' 'handbag' '0']\n",
      " ['27' 'tie' '0']\n",
      " ['28' 'suitcase' '0']\n",
      " ['29' 'frisbee' '4']\n",
      " ['30' 'skis' '0']\n",
      " ['31' 'snowboard' '0']\n",
      " ['32' 'sports ball' '1']\n",
      " ['33' 'kite' '0']\n",
      " ['34' 'baseball bat' '0']\n",
      " ['35' 'baseball glove' '0']\n",
      " ['36' 'skateboard' '0']\n",
      " ['37' 'surfboard' '2']\n",
      " ['38' 'tennis racket' '0']\n",
      " ['39' 'bottle' '8972']\n",
      " ['40' 'wine glass' '0']\n",
      " ['41' 'cup' '7']\n",
      " ['42' 'fork' '0']\n",
      " ['43' 'knife' '4686']\n",
      " ['44' 'spoon' '1']\n",
      " ['45' 'bowl' '8542']\n",
      " ['46' 'banana' '218']\n",
      " ['47' 'apple' '0']\n",
      " ['48' 'sandwich' '0']\n",
      " ['49' 'orange' '0']\n",
      " ['50' 'broccoli' '522']\n",
      " ['51' 'carrot' '211']\n",
      " ['52' 'hot dog' '0']\n",
      " ['53' 'pizza' '0']\n",
      " ['54' 'donut' '0']\n",
      " ['55' 'cake' '0']\n",
      " ['56' 'chair' '2207']\n",
      " ['57' 'couch' '0']\n",
      " ['58' 'potted plant' '0']\n",
      " ['59' 'bed' '0']\n",
      " ['60' 'dining table' '0']\n",
      " ['61' 'toilet' '0']\n",
      " ['62' 'tv' '6']\n",
      " ['63' 'laptop' '68']\n",
      " ['64' 'mouse' '29']\n",
      " ['65' 'remote' '0']\n",
      " ['66' 'keyboard' '1']\n",
      " ['67' 'cell phone' '13']\n",
      " ['68' 'microwave' '0']\n",
      " ['69' 'oven' '410']\n",
      " ['70' 'toaster' '0']\n",
      " ['71' 'sink' '818']\n",
      " ['72' 'refrigerator' '1796']\n",
      " ['73' 'book' '4']\n",
      " ['74' 'clock' '0']\n",
      " ['75' 'vase' '1']\n",
      " ['76' 'scissors' '142']\n",
      " ['77' 'teddy bear' '0']\n",
      " ['78' 'hair drier' '0']\n",
      " ['79' 'toothbrush' '10']]\n"
     ]
    }
   ],
   "source": [
    "print(np_obj_class_dict)"
   ]
  },
  {
   "attachments": {},
   "cell_type": "markdown",
   "metadata": {},
   "source": [
    "The objects which the user really have an interraction with, in the salad prep video are :\n",
    "- refrigerator\n",
    "- knife\n",
    "- bowl\n",
    "- shelf\n",
    "- lettuce\n",
    "- cucumber\n",
    "- tomatoes\n",
    "- bottle of soap\n",
    "- plates\n",
    "- sink\n",
    "- cloth\n",
    "- peeler (to peel the cucumber)\n",
    "- cutting boards\n",
    "\n",
    "Problem : not all the listed object can be detected (or correctly classified) by YOLOv7\n",
    "\n",
    "The class name I decided to focus on are : \n",
    "- bottle        --> ['39' 'bottle' '8972']\n",
    "- knife         --> ['43' 'knife' '4686']\n",
    "- bowl          --> ['45' 'bowl' '8542']\n",
    "- banana        --> ['46' 'banana' '218'] (there is no babana in the video but the peeled cucumber has been classify as a banana)\n",
    "- brocoli       --> ['50' 'broccoli' '522'] (same logic as the banana, except here it is the lettuce which has been classify has a brocoli)\n",
    "- refrigerator  --> ['72' 'refrigerator' '1796']"
   ]
  },
  {
   "cell_type": "code",
   "execution_count": 66,
   "metadata": {},
   "outputs": [
    {
     "name": "stderr",
     "output_type": "stream",
     "text": [
      "100%|██████████| 28854/28854 [00:01<00:00, 17215.27it/s]\n"
     ]
    }
   ],
   "source": [
    "# get total number of important objects detected (the ones we want to keep : bottle, knife, bowl, banana, brocoli and refrigerator)\n",
    "obj_to_keep = [39, 43, 45, 46, 50, 72]\n",
    "total_obj = 0\n",
    "\n",
    "for i in tqdm(range(len(np_cleaned))):\n",
    "    for j in range(len(np_cleaned[i])):\n",
    "        for k in range(len(np_cleaned[i][j])):\n",
    "            for key in obj_to_keep:\n",
    "                if np_cleaned[i][j][k] == str(key):\n",
    "                    total_obj += 1"
   ]
  },
  {
   "cell_type": "code",
   "execution_count": 67,
   "metadata": {},
   "outputs": [
    {
     "name": "stdout",
     "output_type": "stream",
     "text": [
      "24736\n"
     ]
    }
   ],
   "source": [
    "print(total_obj)"
   ]
  },
  {
   "cell_type": "code",
   "execution_count": 68,
   "metadata": {},
   "outputs": [
    {
     "name": "stderr",
     "output_type": "stream",
     "text": [
      "100%|██████████| 28854/28854 [00:01<00:00, 23009.73it/s]\n",
      "/tmp/ipykernel_105513/3759043937.py:11: VisibleDeprecationWarning: Creating an ndarray from ragged nested sequences (which is a list-or-tuple of lists-or-tuples-or ndarrays with different lengths or shapes) is deprecated. If you meant to do this, you must specify 'dtype=object' when creating the ndarray.\n",
      "  np_obj_to_keep = np.array(new_list)\n"
     ]
    }
   ],
   "source": [
    "# create a new list with only the objects we want to keep (bottle, knife, bowl, banana, brocoli and refrigerator) with the structure (frame, object detected)\n",
    "\n",
    "new_list = []\n",
    "for i in tqdm(range(len(np_cleaned))):\n",
    "    for j in range(len(np_cleaned[i])):\n",
    "        for k in range(len(np_cleaned[i][j])):\n",
    "            for key in obj_to_keep:\n",
    "                if np_cleaned[i][j][k] == str(key):\n",
    "                    new_list.append([i, np_cleaned[i][j]])\n",
    "\n",
    "np_obj_to_keep = np.array(new_list)"
   ]
  },
  {
   "cell_type": "code",
   "execution_count": 69,
   "metadata": {},
   "outputs": [
    {
     "name": "stdout",
     "output_type": "stream",
     "text": [
      "(24736, 2)\n",
      "[[79\n",
      "  list(['39', '0.0398437', '0.378906', '0.0578125', '0.0859375', '0.819336'])]\n",
      " [84\n",
      "  list(['39', '0.0507812', '0.377344', '0.0546875', '0.0828125', '0.811035'])]\n",
      " [85\n",
      "  list(['39', '0.0539063', '0.377344', '0.0546875', '0.0828125', '0.817871'])]\n",
      " [86\n",
      "  list(['39', '0.0546875', '0.377344', '0.053125', '0.0828125', '0.853516'])]\n",
      " [87\n",
      "  list(['39', '0.0578125', '0.375781', '0.053125', '0.0828125', '0.882812'])]\n",
      " [88\n",
      "  list(['39', '0.0601562', '0.375', '0.0515625', '0.08125', '0.888184'])]\n",
      " [89\n",
      "  list(['39', '0.0632813', '0.375', '0.0515625', '0.08125', '0.865234'])]\n",
      " [90 list(['39', '0.0671875', '0.375', '0.05', '0.08125', '0.838867'])]\n",
      " [91\n",
      "  list(['39', '0.0703125', '0.374219', '0.05', '0.0828125', '0.812988'])]\n",
      " [93\n",
      "  list(['39', '0.078125', '0.372656', '0.046875', '0.0828125', '0.872559'])]]\n"
     ]
    }
   ],
   "source": [
    "print(np_obj_to_keep.shape)\n",
    "print(np_obj_to_keep[:10])"
   ]
  },
  {
   "cell_type": "code",
   "execution_count": 70,
   "metadata": {},
   "outputs": [
    {
     "name": "stderr",
     "output_type": "stream",
     "text": [
      "100%|██████████| 24736/24736 [00:00<00:00, 735765.58it/s]"
     ]
    },
    {
     "name": "stdout",
     "output_type": "stream",
     "text": [
      "3 objects detected == > id = 11326\n",
      "3 objects detected == > id = 12210\n",
      "3 objects detected == > id = 12211\n",
      "3 objects detected == > id = 12212\n",
      "3 objects detected == > id = 15047\n",
      "3 objects detected == > id = 15049\n",
      "3 objects detected == > id = 19056\n",
      "3 objects detected == > id = 19064\n",
      "3 objects detected == > id = 19066\n",
      "3 objects detected == > id = 19073\n",
      "3 objects detected == > id = 21764\n",
      "3 objects detected == > id = 21765\n",
      "3 objects detected == > id = 22100\n",
      "3 objects detected == > id = 22101\n",
      "3 objects detected == > id = 22102\n",
      "3 objects detected == > id = 22633\n",
      "3 objects detected == > id = 22634\n",
      "3 objects detected == > id = 22635\n",
      "3 objects detected == > id = 22636\n",
      "3 objects detected == > id = 22637\n",
      "3 objects detected == > id = 22638\n",
      "3 objects detected == > id = 22639\n",
      "3 objects detected == > id = 22640\n",
      "3 objects detected == > id = 22763\n",
      "3 objects detected == > id = 22765\n",
      "3 objects detected == > id = 22767\n",
      "3 objects detected == > id = 22868\n",
      "3 objects detected == > id = 22897\n",
      "3 objects detected == > id = 22898\n",
      "3 objects detected == > id = 22899\n",
      "3 objects detected == > id = 22972\n",
      "3 objects detected == > id = 22973\n",
      "3 objects detected == > id = 22974\n",
      "3 objects detected == > id = 23016\n",
      "3 objects detected == > id = 23017\n",
      "3 objects detected == > id = 23018\n",
      "3 objects detected == > id = 23019\n",
      "3 objects detected == > id = 23028\n",
      "3 objects detected == > id = 23042\n",
      "3 objects detected == > id = 23043\n",
      "3 objects detected == > id = 23044\n",
      "3 objects detected == > id = 23045\n",
      "3 objects detected == > id = 23046\n",
      "3 objects detected == > id = 23081\n",
      "3 objects detected == > id = 23082\n",
      "3 objects detected == > id = 23083\n",
      "3 objects detected == > id = 23084\n",
      "3 objects detected == > id = 23085\n",
      "3 objects detected == > id = 23098\n",
      "3 objects detected == > id = 23099\n",
      "3 objects detected == > id = 23100\n",
      "3 objects detected == > id = 23158\n",
      "3 objects detected == > id = 23159\n",
      "3 objects detected == > id = 23234\n",
      "3 objects detected == > id = 23235\n",
      "3 objects detected == > id = 23236\n",
      "3 objects detected == > id = 23237\n",
      "3 objects detected == > id = 23238\n",
      "3 objects detected == > id = 23239\n",
      "3 objects detected == > id = 23240\n",
      "3 objects detected == > id = 23241\n",
      "3 objects detected == > id = 23242\n",
      "3 objects detected == > id = 23243\n",
      "3 objects detected == > id = 23244\n",
      "3 objects detected == > id = 23245\n",
      "3 objects detected == > id = 23246\n",
      "3 objects detected == > id = 23247\n",
      "3 objects detected == > id = 23248\n",
      "3 objects detected == > id = 23297\n",
      "3 objects detected == > id = 23298\n",
      "3 objects detected == > id = 23299\n",
      "3 objects detected == > id = 23300\n",
      "3 objects detected == > id = 23301\n",
      "3 objects detected == > id = 23302\n",
      "3 objects detected == > id = 23303\n",
      "3 objects detected == > id = 23304\n",
      "3 objects detected == > id = 23305\n",
      "3 objects detected == > id = 23306\n",
      "3 objects detected == > id = 23307\n",
      "3 objects detected == > id = 23308\n",
      "3 objects detected == > id = 23354\n",
      "3 objects detected == > id = 23356\n",
      "3 objects detected == > id = 23365\n",
      "3 objects detected == > id = 23366\n",
      "3 objects detected == > id = 23371\n",
      "3 objects detected == > id = 23382\n",
      "3 objects detected == > id = 25538\n",
      "3 objects detected == > id = 25677\n",
      "3 objects detected == > id = 27001\n",
      "3 objects detected == > id = 27002\n",
      "3 objects detected == > id = 27003\n",
      "3 objects detected == > id = 27004\n",
      "3 objects detected == > id = 27005\n",
      "3 objects detected == > id = 27009\n",
      "3 objects detected == > id = 27011\n",
      "3 objects detected == > id = 27017\n",
      "3 objects detected == > id = 27026\n",
      "3 objects detected == > id = 27426\n",
      "3 objects detected == > id = 27632\n"
     ]
    },
    {
     "name": "stderr",
     "output_type": "stream",
     "text": [
      "\n"
     ]
    }
   ],
   "source": [
    "# check if a frame id is used more than once and check how many times it is used\n",
    "id = 0\n",
    "id2 = 0\n",
    "id3 = 0\n",
    "for i in tqdm(range(len(np_obj_to_keep))):\n",
    "    if id == np_obj_to_keep[i][0]:\n",
    "        if id2 == np_obj_to_keep[i][0]:\n",
    "            print(\"3 objects detected == > id = \" + str(id))\n",
    "            if id3 == np_obj_to_keep[i][0]:\n",
    "                id3 = np_obj_to_keep[i][0]\n",
    "                print(\"4 objects detected ==> id = \" + str(id))\n",
    "            else :\n",
    "                id3 = np_obj_to_keep[i][0]\n",
    "        else :\n",
    "            id2 = np_obj_to_keep[i][0]\n",
    "    else:\n",
    "        id = np_obj_to_keep[i][0]\n"
   ]
  },
  {
   "cell_type": "code",
   "execution_count": 71,
   "metadata": {},
   "outputs": [
    {
     "name": "stdout",
     "output_type": "stream",
     "text": [
      "[[11325\n",
      "  list(['45', '0.882031', '0.523438', '0.173438', '0.140625', '0.810547'])]\n",
      " [11326\n",
      "  list(['45', '0.892969', '0.530469', '0.176563', '0.142188', '0.818359'])]\n",
      " [11326\n",
      "  list(['72', '0.290625', '0.338281', '0.225', '0.239063', '0.824707'])]\n",
      " [11326\n",
      "  list(['43', '0.951563', '0.678125', '0.040625', '0.1', '0.853516'])]\n",
      " [11327\n",
      "  list(['43', '0.960156', '0.684375', '0.0390625', '0.09375', '0.811035'])]]\n"
     ]
    }
   ],
   "source": [
    "# example of frame with 3 objects detected (id = 11326)\n",
    "print(np_obj_to_keep[9076:9081])"
   ]
  },
  {
   "cell_type": "code",
   "execution_count": 72,
   "metadata": {},
   "outputs": [
    {
     "name": "stdout",
     "output_type": "stream",
     "text": [
      "11325\n"
     ]
    }
   ],
   "source": [
    "print(np_obj_to_keep[9076][0])"
   ]
  },
  {
   "attachments": {},
   "cell_type": "markdown",
   "metadata": {},
   "source": [
    "Previous test show me that the maximum of object detected which we want to keep, in one single frame, is 3.\n",
    "\n",
    "Ex : in frame 11'326 there is a knife, a bowl and a refrigerator\n",
    "\n",
    "Since a frame can contains 3 objects, the dataframe will have to have this structure : (frame, [class_1, x, y, w, h, confidence], [class_2, x, y, w, h, confidence], [class_3, x, y, w, h, confidence])"
   ]
  },
  {
   "cell_type": "code",
   "execution_count": 73,
   "metadata": {},
   "outputs": [
    {
     "name": "stdout",
     "output_type": "stream",
     "text": [
      "<class 'str'>\n",
      "0\n",
      "<class 'int'>\n",
      "0\n"
     ]
    }
   ],
   "source": [
    "print(type(np_cleaned[9076][0][0]))\n",
    "print(np_cleaned[9076][0][0])\n",
    "\n",
    "print(type(int(np_cleaned[9076][0][0])))\n",
    "print(int(np_cleaned[9076][0][0]))"
   ]
  },
  {
   "cell_type": "code",
   "execution_count": 74,
   "metadata": {},
   "outputs": [
    {
     "name": "stderr",
     "output_type": "stream",
     "text": [
      "100%|██████████| 28854/28854 [00:12<00:00, 2254.85it/s]\n",
      "/tmp/ipykernel_105513/852675233.py:16: VisibleDeprecationWarning: Creating an ndarray from ragged nested sequences (which is a list-or-tuple of lists-or-tuples-or ndarrays with different lengths or shapes) is deprecated. If you meant to do this, you must specify 'dtype=object' when creating the ndarray.\n",
      "  final = np.array([[frame, obj] for frame, obj in frame_objects.items()])\n"
     ]
    }
   ],
   "source": [
    "frame_objects = {} # create a dictionary with the frame id as key and the objects detected as value\n",
    "obj_to_keep = [39, 43, 45, 46, 50, 72] # list of objects we want to keep\n",
    "\n",
    "for i in tqdm(range(len(np_cleaned))):\n",
    "    if i in np_obj_to_keep[:, 0]: # if the frame contains at least one object we want to keep\n",
    "        if i not in frame_objects:  # check if the key exists in the dictionary\n",
    "            frame_objects[i] = [] # if not, add the key with an empty list as value\n",
    "        for j in range(len(np_cleaned[i])):\n",
    "            if int(np_cleaned[i][j][0]) in obj_to_keep: # if the object detected is one we want to keep\n",
    "                obj = np_cleaned[i][j]\n",
    "                frame_objects[i].append(obj)\n",
    "    else:\n",
    "        frame_objects[i] = [] # if the frame doesn't contain any object we want to keep, add an empty list\n",
    "\n",
    "# Convert the dictionary to a numpy array\n",
    "final = np.array([[frame, obj] for frame, obj in frame_objects.items()])"
   ]
  },
  {
   "cell_type": "code",
   "execution_count": 75,
   "metadata": {},
   "outputs": [
    {
     "name": "stdout",
     "output_type": "stream",
     "text": [
      "(28854, 2)\n",
      "[[11320\n",
      "  list([['45', '0.8375', '0.498437', '0.16875', '0.134375', '0.851074']])]\n",
      " [11321\n",
      "  list([['45', '0.846094', '0.502344', '0.170312', '0.135937', '0.814941'], ['43', '0.915625', '0.659375', '0.0375', '0.125', '0.837402']])]\n",
      " [11322\n",
      "  list([['45', '0.853125', '0.507031', '0.171875', '0.135937', '0.831055'], ['43', '0.921875', '0.661719', '0.0375', '0.120312', '0.880371']])]\n",
      " [11323\n",
      "  list([['43', '0.928125', '0.666406', '0.0375', '0.117188', '0.807129'], ['45', '0.8625', '0.511719', '0.16875', '0.135937', '0.814453']])]\n",
      " [11324 list([])]\n",
      " [11325\n",
      "  list([['45', '0.882031', '0.523438', '0.173438', '0.140625', '0.810547']])]\n",
      " [11326\n",
      "  list([['45', '0.892969', '0.530469', '0.176563', '0.142188', '0.818359'], ['72', '0.290625', '0.338281', '0.225', '0.239063', '0.824707'], ['43', '0.951563', '0.678125', '0.040625', '0.1', '0.853516']])]\n",
      " [11327\n",
      "  list([['43', '0.960156', '0.684375', '0.0390625', '0.09375', '0.811035'], ['72', '0.297656', '0.338281', '0.220313', '0.239063', '0.813965']])]\n",
      " [11328\n",
      "  list([['72', '0.309375', '0.3375', '0.221875', '0.2375', '0.812012'], ['45', '0.911719', '0.54375', '0.173438', '0.14375', '0.866699']])]\n",
      " [11329\n",
      "  list([['45', '0.917969', '0.552344', '0.164062', '0.145313', '0.83252'], ['72', '0.321875', '0.3375', '0.215625', '0.2375', '0.837402']])]]\n"
     ]
    }
   ],
   "source": [
    "print(final.shape)\n",
    "print(final[11320:11330])"
   ]
  },
  {
   "cell_type": "code",
   "execution_count": 76,
   "metadata": {},
   "outputs": [
    {
     "name": "stdout",
     "output_type": "stream",
     "text": [
      "0.917969\n",
      "0.552344\n",
      "0.164062\n",
      "0.145313\n"
     ]
    }
   ],
   "source": [
    "print(final[11329][1][0][1])\n",
    "print(final[11329][1][0][2])\n",
    "print(final[11329][1][0][3])\n",
    "print(final[11329][1][0][4])"
   ]
  },
  {
   "cell_type": "code",
   "execution_count": 77,
   "metadata": {},
   "outputs": [
    {
     "name": "stderr",
     "output_type": "stream",
     "text": [
      "100%|██████████| 28854/28854 [00:00<00:00, 54186.93it/s] \n"
     ]
    }
   ],
   "source": [
    "# adapt the x and y coordinates and the width and height of the bounding box to the size of the image (640x640)\n",
    "# objet = [class, x, y, width, height, confidence]\n",
    "\n",
    "# create a copy of the array to keep the original one\n",
    "final_copy = final.copy()\n",
    "\n",
    "for i in tqdm(range(len(final_copy))):\n",
    "    for j in range(len(final_copy[i][1])):\n",
    "        final_copy[i][1][j][1] = round(float(final_copy[i][1][j][1]) * IMG_WIDTH, 4)\n",
    "        final_copy[i][1][j][2] = round(float(final_copy[i][1][j][2]) * IMG_HEIGHT, 4)\n",
    "        final_copy[i][1][j][3] = round(float(final_copy[i][1][j][3]) * IMG_WIDTH, 4)\n",
    "        final_copy[i][1][j][4] = round(float(final_copy[i][1][j][4]) * IMG_HEIGHT, 4)"
   ]
  },
  {
   "cell_type": "code",
   "execution_count": 78,
   "metadata": {},
   "outputs": [
    {
     "name": "stdout",
     "output_type": "stream",
     "text": [
      "275.3907\n",
      "165.7032\n",
      "49.2186\n",
      "43.5939\n"
     ]
    }
   ],
   "source": [
    "print(final_copy[11329][1][0][1])\n",
    "print(final_copy[11329][1][0][2])\n",
    "print(final_copy[11329][1][0][3])\n",
    "print(final_copy[11329][1][0][4])"
   ]
  },
  {
   "cell_type": "code",
   "execution_count": 79,
   "metadata": {},
   "outputs": [],
   "source": [
    "# create a pandas dataframe with the numpy array and delete the first column\n",
    "df_final = pd.DataFrame(final_copy)\n",
    "df_final = df_final.drop(columns=0)"
   ]
  },
  {
   "cell_type": "code",
   "execution_count": 80,
   "metadata": {},
   "outputs": [
    {
     "name": "stdout",
     "output_type": "stream",
     "text": [
      "(28854, 1)\n",
      "                                                       1\n",
      "0                                                     []\n",
      "1                                                     []\n",
      "2                                                     []\n",
      "3                                                     []\n",
      "4                                                     []\n",
      "...                                                  ...\n",
      "28849                                                 []\n",
      "28850  [[43, 181.875, 187.7343, 12.1875, 58.5936, 0.8...\n",
      "28851  [[43, 182.3439, 187.2657, 12.1875, 58.5936, 0....\n",
      "28852  [[43, 182.3439, 187.0314, 12.1875, 59.0625, 0....\n",
      "28853  [[43, 182.5782, 187.0314, 11.7188, 59.0625, 0....\n",
      "\n",
      "[28854 rows x 1 columns]\n"
     ]
    }
   ],
   "source": [
    "print(df_final.shape)\n",
    "print(df_final)"
   ]
  },
  {
   "cell_type": "code",
   "execution_count": 81,
   "metadata": {},
   "outputs": [
    {
     "name": "stdout",
     "output_type": "stream",
     "text": [
      "Number of frame with at least one object detected : 21068 (73.02%)\n"
     ]
    }
   ],
   "source": [
    "# print the number of frame with at least one object detected\n",
    "nb_frame_with_obj = len(df_final[df_final[1].map(len) > 0])\n",
    "percentage = round(nb_frame_with_obj / len(df_final) * 100, 2)\n",
    "print(\"Number of frame with at least one object detected : \" + str(nb_frame_with_obj) + \" (\" + str(percentage) + \"%)\")"
   ]
  },
  {
   "cell_type": "code",
   "execution_count": 82,
   "metadata": {},
   "outputs": [],
   "source": [
    "# save the dataframe to a csv file\n",
    "df_final.to_csv('objects_detected.csv', index=False, header=False)"
   ]
  }
 ],
 "metadata": {
  "kernelspec": {
   "display_name": "venv",
   "language": "python",
   "name": "python3"
  },
  "language_info": {
   "codemirror_mode": {
    "name": "ipython",
    "version": 3
   },
   "file_extension": ".py",
   "mimetype": "text/x-python",
   "name": "python",
   "nbconvert_exporter": "python",
   "pygments_lexer": "ipython3",
   "version": "3.8.10"
  },
  "orig_nbformat": 4,
  "vscode": {
   "interpreter": {
    "hash": "d4960876d913a0ecddcc58242d7808f8a2d48243fb354b32aedfe04a86128630"
   }
  }
 },
 "nbformat": 4,
 "nbformat_minor": 2
}
